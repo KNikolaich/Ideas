{
  "nbformat": 4,
  "nbformat_minor": 0,
  "metadata": {
    "colab": {
      "name": "chatBot.ipynb",
      "provenance": [],
      "toc_visible": true,
      "authorship_tag": "ABX9TyOeG3q4WfVegzCbAS6rcMpo",
      "include_colab_link": true
    },
    "kernelspec": {
      "name": "python3",
      "display_name": "Python 3"
    },
    "language_info": {
      "name": "python"
    }
  },
  "cells": [
    {
      "cell_type": "markdown",
      "metadata": {
        "id": "view-in-github",
        "colab_type": "text"
      },
      "source": [
        "<a href=\"https://colab.research.google.com/github/KNikolaich/Ideas/blob/master/Python/Tests/chatBot.ipynb\" target=\"_parent\"><img src=\"https://colab.research.google.com/assets/colab-badge.svg\" alt=\"Open In Colab\"/></a>"
      ]
    },
    {
      "cell_type": "markdown",
      "metadata": {
        "id": "zHgD8W1zzAvt"
      },
      "source": [
        "## LIST\n",
        "```\n",
        "l = [\"Что-нибудь\", 123, 'и ещё нечно', 12.5, 'это тупо список']\n",
        "```\n",
        "\n",
        "## dictionary\n",
        "```\n",
        "\n",
        "d = {'key1':1,\n",
        "     'key2':2,\n",
        "     'Key1':1.1,\n",
        "     'type':\"dictionary\"}\n",
        "print(d)\n",
        "```\n",
        "\n",
        "\n",
        "#ДЗ: добавить 3 интента\n"
      ]
    },
    {
      "cell_type": "markdown",
      "metadata": {
        "id": "6oIsP4oV53xM"
      },
      "source": [
        "###Расстояние ливенштейна,\n",
        " - расстояние между словами, т.е.сколько нужно совершить элементарных исправлений , чтобы из одного слова получить другое\n",
        "\n",
        "```\n",
        "import nltk\n",
        "s1, s2 = 'Строка 1', 'Строка2 ' \n",
        "nltk.edit_distance(s1, s2)/((len(s1)+len(s2)/2) # относительный дистанс\n",
        "```"
      ]
    },
    {
      "cell_type": "code",
      "metadata": {
        "id": "THoDPCfl6Mfh"
      },
      "source": [
        "import random\n",
        "import nltk\n",
        "import json\n"
      ],
      "execution_count": 4,
      "outputs": []
    },
    {
      "cell_type": "code",
      "metadata": {
        "id": "E2wkZnT9xBEJ"
      },
      "source": [
        "with open('/content/BOT_CONFIG.json', 'r') as f:\n",
        "  BOT_CONFIG = json.load(f)"
      ],
      "execution_count": 5,
      "outputs": []
    },
    {
      "cell_type": "markdown",
      "metadata": {
        "id": "64HbEFKMy854"
      },
      "source": [
        ""
      ]
    },
    {
      "cell_type": "code",
      "metadata": {
        "colab": {
          "base_uri": "https://localhost:8080/",
          "height": 35
        },
        "id": "jr93iRBWzpIh",
        "outputId": "bbb85241-5ad6-4ac3-dcd3-2c1ff9fe63bb"
      },
      "source": [
        "def clean(text):\n",
        "  clean_text = ''\n",
        "  for ch in text.lower():\n",
        "    if ch in 'абвгдеёжзийклмнопрстуфхцчшщъыьэюя ':\n",
        "      clean_text +=ch\n",
        "  return clean_text\n",
        "\n",
        "#порог возьмем 0.4\n",
        "def get_distance(s1, s2): \n",
        "  return nltk.edit_distance(s1, s2)/((len(s1)+len(s2))/2) < 0.4\n",
        "\n",
        "\n",
        "def get_intent(question):\n",
        "  for intent in BOT_CONFIG['intents']:\n",
        "    for example in BOT_CONFIG['intents'][intent]['examples']:\n",
        "      if get_distance(clean(example), clean(question)):\n",
        "        return intent\n",
        "  return 'undefineIntent'\n",
        "\n",
        "get_intent('про')"
      ],
      "execution_count": 6,
      "outputs": [
        {
          "output_type": "execute_result",
          "data": {
            "application/vnd.google.colaboratory.intrinsic+json": {
              "type": "string"
            },
            "text/plain": [
              "'undefineIntent'"
            ]
          },
          "metadata": {
            "tags": []
          },
          "execution_count": 6
        }
      ]
    },
    {
      "cell_type": "code",
      "metadata": {
        "id": "5CZ9jaXl2cQf"
      },
      "source": [
        "def bot():\n",
        "  question = input()\n",
        "  intent = get_intent(question)\n",
        "  if intent != 'undefineIntent':\n",
        "    print(random.choice(BOT_CONFIG['intents'][intent]['responses']))\n",
        "  else:\n",
        "    print(intent)\n"
      ],
      "execution_count": 7,
      "outputs": []
    },
    {
      "cell_type": "code",
      "metadata": {
        "colab": {
          "base_uri": "https://localhost:8080/"
        },
        "id": "t5EUb7rW3Wku",
        "outputId": "53fba0f2-a0dd-48b3-e175-31929ebf0451"
      },
      "source": [
        "while True:\n",
        "  bot()"
      ],
      "execution_count": null,
      "outputs": [
        {
          "output_type": "stream",
          "text": [
            "привет\n",
            "здравствуйте.\n",
            "как тебя зовут\n",
            "Алиса\n",
            "Алиса привет\n",
            "undefineIntent\n",
            "Миша\n",
            "undefineIntent\n",
            "Алиса\n",
            "Там еще викинги с татаро-монголами рубились\n",
            "Алиса\n",
            "Да - это совсем близко (вроде)\n",
            "как тебя зовут\n",
            "Алиса\n",
            "пока\n",
            "прощайте!\n"
          ],
          "name": "stdout"
        }
      ]
    }
  ]
}